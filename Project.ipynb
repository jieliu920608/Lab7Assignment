{
 "cells": [
  {
   "cell_type": "markdown",
   "metadata": {},
   "source": [
    "This notebook was made to explore the project and will have some preliminary results"
   ]
  },
  {
   "cell_type": "code",
   "execution_count": 1,
   "metadata": {
    "collapsed": true
   },
   "outputs": [],
   "source": [
    "import matplotlib.pyplot as plt\n",
    "import numpy as np\n",
    "import pandas as pd\n",
    "%matplotlib inline"
   ]
  },
  {
   "cell_type": "markdown",
   "metadata": {},
   "source": [
    "$N^2 = -\\frac{g}{\\rho_{0}(z)}\\frac{\\partial \\rho_{0}(z)}{\\partial z}$\n",
    "\n",
    "Assume $\\rho_{0}$ = 1e3, $\\frac{\\partial \\rho_{0}(z)}{\\partial z}$ = 1e-1\n",
    "\n",
    "Literature review of conditions for baroclinic tides:\n",
    "$\\frac{\\sigma^2 - f^2}{N^2-\\sigma^2}$~$\\frac{dH}{dX}$"
   ]
  },
  {
   "cell_type": "code",
   "execution_count": 2,
   "metadata": {
    "collapsed": false
   },
   "outputs": [],
   "source": [
    "## define some constants\n",
    "g = 10\n",
    "ngrid =40\n",
    "b0 = 400\n",
    "L = 20e3\n",
    "dx = L/(ngrid-1)\n",
    "dz = b0/(ngrid-1)\n",
    "omega =2*np.pi/(12.25*3600) ##frequency of the initial M2 barotropic tidal currents\n",
    "k = - omega/np.sqrt(g*b0)## wavenumber in x dimension\n",
    "N2 = 1e-4"
   ]
  },
  {
   "cell_type": "code",
   "execution_count": 3,
   "metadata": {
    "collapsed": false
   },
   "outputs": [],
   "source": [
    "##read in n2\n",
    "#n2_file = np.loadtxt(\"n2winter.txt\")"
   ]
  },
  {
   "cell_type": "code",
   "execution_count": 4,
   "metadata": {
    "collapsed": false
   },
   "outputs": [],
   "source": [
    "## define psi, psi_t, psi_c, H, x and z grid points\n",
    "psi = np.zeros((ngrid,ngrid))\n",
    "psi_t = np.zeros((ngrid,ngrid))\n",
    "psi_c = np.zeros((ngrid,ngrid))\n",
    "H = b0*np.ones((ngrid,ngrid))\n",
    "x = np.arange(ngrid)\n",
    "z= np.flipud(x)\n",
    "x,z = np.meshgrid(x,z)"
   ]
  },
  {
   "cell_type": "code",
   "execution_count": 5,
   "metadata": {
    "collapsed": true
   },
   "outputs": [],
   "source": [
    "def bathy1(b0, ngrid):\n",
    "    ## construct slope topography\n",
    "    for i in np.arange(ngrid):\n",
    "        H[i,:] = i*b0/(ngrid-1)   \n",
    "    m = np.zeros_like(H)\n",
    "    for i in np.arange(ngrid/2,ngrid,1):\n",
    "        j = i-20\n",
    "        m[i:, j] = 1\n",
    "    ## mask the slope bathymetry\n",
    "    Hm = np.ma.masked_array(H, m)\n",
    "    #Hm[(ngrid-1)/2,0] = Hm[(ngrid-1)/2,1]\n",
    "    #Hm[0,(ngrid-1)/2] = Hm[0,(ngrid-1)/2+1]\n",
    "    Hm = np.flipud(Hm)\n",
    "\n",
    "    return Hm"
   ]
  },
  {
   "cell_type": "code",
   "execution_count": 6,
   "metadata": {
    "collapsed": false
   },
   "outputs": [],
   "source": [
    "Hm = bathy1(b0,ngrid)"
   ]
  },
  {
   "cell_type": "code",
   "execution_count": 7,
   "metadata": {
    "collapsed": true
   },
   "outputs": [],
   "source": [
    "def bathy2(b0, ngrid):\n",
    "    ## construct step topography\n",
    "    topo = np.loadtxt(\"depth.txt\")\n",
    "    for i in np.arange(ngrid):\n",
    "        H[i,:] =topo[i]\n",
    "    m = np.zeros_like(H)\n",
    "    for j in np.arange(ngrid/2):\n",
    "        i = j+20\n",
    "        m[i:, j] = 1\n",
    "    ## mask the step bathymetry\n",
    "    Hm = np.ma.masked_array(H, m)\n",
    "    #Hm[(ngrid-1)/2,0] = Hm[(ngrid-1)/2,1]\n",
    "    #Hm[0,(ngrid-1)/2] = Hm[0,(ngrid-1)/2+1]\n",
    "    Hm = np.flipud(Hm)\n",
    "\n",
    "    return Hm"
   ]
  },
  {
   "cell_type": "code",
   "execution_count": 8,
   "metadata": {
    "collapsed": false
   },
   "outputs": [],
   "source": [
    "## define slope of the topography\n",
    "#x_slope = np.arange(ngrid/2)\n",
    "#z_slope = np.flipud(np.arange(ngrid/2))\n",
    "## define x,y_slope corner of the topography\n",
    "#x_slope_corner = np.delete(x_slope, -1)\n",
    "#z_slope_corner = z_slope+1\n",
    "#z_slope_corner = np.delete(z_slope_corner, -1)\n",
    "##append the corner points and slope points\n",
    "#x_x = np.append(x_slope,x_slope_corner)\n",
    "#z_z = np.append(z_slope,z_slope_corner)"
   ]
  },
  {
   "cell_type": "code",
   "execution_count": 9,
   "metadata": {
    "collapsed": false
   },
   "outputs": [
    {
     "data": {
      "text/plain": [
       "<matplotlib.text.Text at 0x7feba3488898>"
      ]
     },
     "execution_count": 9,
     "metadata": {},
     "output_type": "execute_result"
    },
    {
     "name": "stderr",
     "output_type": "stream",
     "text": [
      "/home/jieliu/anaconda3/lib/python3.4/site-packages/matplotlib/collections.py:590: FutureWarning: elementwise comparison failed; returning scalar instead, but in the future will perform elementwise comparison\n",
      "  if self._edgecolors == str('face'):\n"
     ]
    },
    {
     "data": {
      "image/png": "[encoded data removed]",
      "text/plain": [
       "<matplotlib.figure.Figure at 0x7febaed9d6d8>"
      ]
     },
     "metadata": {},
     "output_type": "display_data"
    }
   ],
   "source": [
    "fig, ax =plt.subplots(1,1,figsize = (12,6))\n",
    "plot=ax.pcolormesh(Hm,linewidth=0,rasterized=True, vmin = 0, vmax= 400)\n",
    "cbar= plt.colorbar(plot)\n",
    "cbar.set_label('Depth [m]')\n",
    "ax.grid('on')\n",
    "ax.set_xlim(0,40)\n",
    "ax.set_xlabel('x grid point')\n",
    "ax.set_ylabel('z grid point')\n",
    "ax.set_ylim(0,40)\n",
    "ax.set_title('bathy1')"
   ]
  },
  {
   "cell_type": "code",
   "execution_count": 10,
   "metadata": {
    "collapsed": true
   },
   "outputs": [],
   "source": [
    "def initial_conditions(psi):\n",
    "    \"\"\"Set the initial condition values when x=0.\n",
    "    \"\"\"\n",
    "    psi[:,0] = 0\n",
    "    ## the first x point:\n",
    "    psi[-1+ngrid/2:,1] = (1/omega)*np.sqrt(g*b0)* np.sin(k*180*1/np.pi) * (b0+Hm[-1+ngrid/2:,-1])/b0\n",
    "    ## the first z point (don't need it anymore)\n",
    "    #psi[-2,:] = -(1/omega)*np.sqrt(g*b0)* np.sin(k*180*np.arange(0,40,1)/np.pi) * (b0+Hm[-2,0])/b0\n",
    "    ## for slope boundary points:\n",
    "    a= np.loadtxt('slope_index.txt')\n",
    "    for i in np.arange(len(a)):\n",
    "        psi[a[i,0],a[i,1]] = (1/omega)*np.sqrt(g*b0)* np.sin(k*180*i/np.pi) * (b0+Hm[a[i,0],-1])/b0\n",
    "    return psi"
   ]
  },
  {
   "cell_type": "code",
   "execution_count": 11,
   "metadata": {
    "collapsed": false
   },
   "outputs": [
    {
     "data": {
      "text/plain": [
       "<matplotlib.colorbar.Colorbar at 0x7feb9fb040f0>"
      ]
     },
     "execution_count": 11,
     "metadata": {},
     "output_type": "execute_result"
    },
    {
     "name": "stderr",
     "output_type": "stream",
     "text": [
      "/home/jieliu/anaconda3/lib/python3.4/site-packages/matplotlib/collections.py:590: FutureWarning: elementwise comparison failed; returning scalar instead, but in the future will perform elementwise comparison\n",
      "  if self._edgecolors == str('face'):\n"
     ]
    },
    {
     "data": {
      "image/png": "[encoded data removed]",
      "text/plain": [
       "<matplotlib.figure.Figure at 0x7febac96cef0>"
      ]
     },
     "metadata": {},
     "output_type": "display_data"
    }
   ],
   "source": [
    "psi = initial_conditions(psi)\n",
    "plt.pcolormesh(psi,vmin=-4000, vmax=0)\n",
    "plt.colorbar()"
   ]
  },
  {
   "cell_type": "code",
   "execution_count": 12,
   "metadata": {
    "collapsed": false
   },
   "outputs": [
    {
     "name": "stdout",
     "output_type": "stream",
     "text": [
      "-4354.46178399 -3907.85269525 0.0\n"
     ]
    }
   ],
   "source": [
    "print (psi[0,19],psi[2,18],psi[2,19])"
   ]
  },
  {
   "cell_type": "code",
   "execution_count": 16,
   "metadata": {
    "collapsed": false
   },
   "outputs": [
    {
     "name": "stdout",
     "output_type": "stream",
     "text": [
      "2177.23743912 -3907.85269525 0.0\n"
     ]
    }
   ],
   "source": [
    "print (psi[0,19],psi[2,18],psi[2,19])"
   ]
  },
  {
   "cell_type": "code",
   "execution_count": 12,
   "metadata": {
    "collapsed": true
   },
   "outputs": [],
   "source": [
    "def boundary_conditions(psi):\n",
    "    \"\"\"Set the boundary condition values.\n",
    "    \"\"\"\n",
    "    ## three fixed boundary\n",
    "    psi[-1,:] = -(1/omega)*np.sqrt(g*b0)* np.sin(k*180*np.arange(0,40,1)/np.pi) * (b0)/b0## surface wall(rigid lib)## surface wall(rigid lib)\n",
    "    psi[-1+ngrid/2:,0] = 0 ## vertical wall\n",
    "    psi[0,-1+ngrid/2:] = -(1/omega)*np.sqrt(g*b0)* np.sin(k*180*np.arange(-1+ngrid/2,40,1)/np.pi) * (b0+Hm[0,-1])/b0 ## bottom wall\n",
    "    return psi"
   ]
  },
  {
   "cell_type": "code",
   "execution_count": 13,
   "metadata": {
    "collapsed": false
   },
   "outputs": [],
   "source": [
    "def leap_frog(psi_c):\n",
    "    \"\"\"Calculate the next x (or i) values using the leap-frog scheme.\n",
    "    \n",
    "    \"\"\"\n",
    "    #psi = initial_conditions(psi)\n",
    "    ## This loop is for the whole domain\n",
    "    a= np.loadtxt('slope_index.txt')\n",
    "    for i in np.arange(1,ngrid-1):##(1,40) no 40\n",
    "        for pz in np.arange(ngrid-2, 0,-1):##(38,1) no 1\n",
    "            psi_c[pz, i+1] = 2*psi_c[pz, i] + (dx**2/N2)*(omega**2*(psi_c[pz-1,i]-2*psi_c[pz,i]\\\n",
    "            +psi_c[pz+1,i])/(dz**2)-(N2/g)*omega**2*(psi_c[pz-1,i]-psi_c[pz+1,i])/(2*dz)) - psi_c[pz, i-1]\n",
    "            if [pz,i+1] in a:\n",
    "                   psi_c[pz, i+1] = -(1/omega)*np.sqrt(g*b0)* np.sin(k*180*(i+1)/np.pi) * (b0+Hm[pz,-1])/b0\n",
    "    \n",
    "    return psi_c   "
   ]
  },
  {
   "cell_type": "code",
   "execution_count": 14,
   "metadata": {
    "collapsed": false
   },
   "outputs": [],
   "source": [
    "#mask = Hm.mask"
   ]
  },
  {
   "cell_type": "code",
   "execution_count": 15,
   "metadata": {
    "collapsed": false
   },
   "outputs": [],
   "source": [
    "#psi = np.ma.array(psi,mask =mask)"
   ]
  },
  {
   "cell_type": "code",
   "execution_count": 16,
   "metadata": {
    "collapsed": false
   },
   "outputs": [],
   "source": [
    "#psi = initial_conditions(psi)\n",
    "psi = boundary_conditions(psi)"
   ]
  },
  {
   "cell_type": "code",
   "execution_count": 17,
   "metadata": {
    "collapsed": false
   },
   "outputs": [
    {
     "data": {
      "text/plain": [
       "(0, 40)"
      ]
     },
     "execution_count": 17,
     "metadata": {},
     "output_type": "execute_result"
    },
    {
     "name": "stderr",
     "output_type": "stream",
     "text": [
      "/home/jieliu/anaconda3/lib/python3.4/site-packages/matplotlib/collections.py:590: FutureWarning: elementwise comparison failed; returning scalar instead, but in the future will perform elementwise comparison\n",
      "  if self._edgecolors == str('face'):\n"
     ]
    },
    {
     "data": {
      "image/png": "[encoded data removed]",
      "text/plain": [
       "<matplotlib.figure.Figure at 0x7feb9fac0438>"
      ]
     },
     "metadata": {},
     "output_type": "display_data"
    }
   ],
   "source": [
    "## initial conditions & boundary conditions\n",
    "fig, ax =plt.subplots(1,1,figsize = (12,6))\n",
    "plot=ax.pcolormesh(psi,linewidth=0,rasterized=True,cmap = 'jet',vmin=-4000, vmax=0)\n",
    "cbar= plt.colorbar(plot)\n",
    "cbar.set_label('streamfunction psi_c')\n",
    "ax.set_xlim(0,40)\n",
    "ax.set_xlabel('x grid point')\n",
    "ax.set_ylabel('z grid point')\n",
    "ax.set_ylim(0,40)"
   ]
  },
  {
   "cell_type": "code",
   "execution_count": 18,
   "metadata": {
    "collapsed": false
   },
   "outputs": [],
   "source": [
    "## after leap frog\n",
    "psi = leap_frog(psi)"
   ]
  },
  {
   "cell_type": "code",
   "execution_count": 19,
   "metadata": {
    "collapsed": true
   },
   "outputs": [],
   "source": [
    "mask = Hm.mask\n",
    "psi = np.ma.array(psi,mask =mask)"
   ]
  },
  {
   "cell_type": "code",
   "execution_count": 20,
   "metadata": {
    "collapsed": false
   },
   "outputs": [
    {
     "data": {
      "text/plain": [
       "(0, 40)"
      ]
     },
     "execution_count": 20,
     "metadata": {},
     "output_type": "execute_result"
    },
    {
     "name": "stderr",
     "output_type": "stream",
     "text": [
      "/home/jieliu/anaconda3/lib/python3.4/site-packages/matplotlib/collections.py:590: FutureWarning: elementwise comparison failed; returning scalar instead, but in the future will perform elementwise comparison\n",
      "  if self._edgecolors == str('face'):\n"
     ]
    },
    {
     "data": {
      "image/png": "[encoded data removed]",
      "text/plain": [
       "<matplotlib.figure.Figure at 0x7feb9fa02128>"
      ]
     },
     "metadata": {},
     "output_type": "display_data"
    }
   ],
   "source": [
    "fig, ax =plt.subplots(1,1,figsize = (12,6))\n",
    "plot=ax.pcolormesh(psi,linewidth=0,rasterized=True,cmap = 'jet',vmin=-2000, vmax=2000)\n",
    "cbar= plt.colorbar(plot)\n",
    "cbar.set_label('streamfunction psi_c')\n",
    "ax.set_xlim(0,40)\n",
    "ax.set_xlabel('x grid point')\n",
    "ax.set_ylabel('z grid point')\n",
    "ax.set_ylim(0,40)"
   ]
  },
  {
   "cell_type": "code",
   "execution_count": 21,
   "metadata": {
    "collapsed": false
   },
   "outputs": [],
   "source": [
    "## barotropic\n",
    "psi_t = (1/omega)*np.sqrt(g*b0)* np.sin(k*180*np.arange(0,40,1)/np.pi) * (b0+Hm)/b0"
   ]
  },
  {
   "cell_type": "code",
   "execution_count": 22,
   "metadata": {
    "collapsed": false
   },
   "outputs": [
    {
     "data": {
      "text/plain": [
       "(0, 40)"
      ]
     },
     "execution_count": 22,
     "metadata": {},
     "output_type": "execute_result"
    },
    {
     "name": "stderr",
     "output_type": "stream",
     "text": [
      "/home/jieliu/anaconda3/lib/python3.4/site-packages/matplotlib/collections.py:590: FutureWarning: elementwise comparison failed; returning scalar instead, but in the future will perform elementwise comparison\n",
      "  if self._edgecolors == str('face'):\n"
     ]
    },
    {
     "data": {
      "image/png": "[encoded data removed]",
      "text/plain": [
       "<matplotlib.figure.Figure at 0x7feb9f9b5a90>"
      ]
     },
     "metadata": {},
     "output_type": "display_data"
    }
   ],
   "source": [
    "## barotropic inputs\n",
    "fig, ax =plt.subplots(1,1,figsize = (12,6))\n",
    "plot=ax.pcolormesh(psi_t,linewidth=0,rasterized=True,cmap = 'jet',vmin=-2000, vmax=2000)\n",
    "cbar= plt.colorbar(plot)\n",
    "cbar.set_label('streamfunction psi_t')\n",
    "ax.set_xlim(0,40)\n",
    "ax.set_xlabel('x grid point')\n",
    "ax.set_ylabel('z grid point')\n",
    "ax.set_ylim(0,40)"
   ]
  },
  {
   "cell_type": "code",
   "execution_count": null,
   "metadata": {
    "collapsed": true
   },
   "outputs": [],
   "source": []
  }
 ],
 "metadata": {
  "kernelspec": {
   "display_name": "Python 3",
   "language": "python",
   "name": "python3"
  },
  "language_info": {
   "codemirror_mode": {
    "name": "ipython",
    "version": 3
   },
   "file_extension": ".py",
   "mimetype": "text/x-python",
   "name": "python",
   "nbconvert_exporter": "python",
   "pygments_lexer": "ipython3",
   "version": "3.4.3"
  }
 },
 "nbformat": 4,
 "nbformat_minor": 0
}
