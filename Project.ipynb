{
 "cells": [
  {
   "cell_type": "markdown",
   "metadata": {},
   "source": [
    "This notebook was made to explore the project and will have some preliminary results"
   ]
  },
  {
   "cell_type": "code",
   "execution_count": 1,
   "metadata": {
    "collapsed": true
   },
   "outputs": [],
   "source": [
    "import matplotlib.pyplot as plt\n",
    "import numpy as np\n",
    "import pandas as pd\n",
    "%matplotlib inline"
   ]
  },
  {
   "cell_type": "markdown",
   "metadata": {},
   "source": [
    "$N^2 = -\\frac{g}{\\rho_{0}(z)}\\frac{\\partial \\rho_{0}(z)}{\\partial z}$\n",
    "\n",
    "Assume $\\rho_{0}$ = 1e3, $\\frac{\\partial \\rho_{0}(z)}{\\partial z}$ = 1e-1\n",
    "\n",
    "Literature review of conditions for baroclinic tides:\n",
    "$\\frac{\\sigma^2 - f^2}{N^2-\\sigma^2}$~$\\frac{dH}{dX}$"
   ]
  },
  {
   "cell_type": "code",
   "execution_count": 2,
   "metadata": {
    "collapsed": false
   },
   "outputs": [],
   "source": [
    "## define some constants\n",
    "g = 10\n",
    "ngrid =40\n",
    "b0 = 400\n",
    "L = 20e3\n",
    "dx = L/(ngrid-1)\n",
    "dz = b0/(ngrid-1)\n",
    "omega =2*np.pi/(12.25*3600) ##frequency of the initial M2 barotropic tidal currents\n",
    "k = - omega/np.sqrt(g*b0)## wavenumber in x dimension\n",
    "N2 = 1e-3"
   ]
  },
  {
   "cell_type": "code",
   "execution_count": 3,
   "metadata": {
    "collapsed": true
   },
   "outputs": [],
   "source": [
    "## define psi, psi_t, psi_c, H, x and z grid points\n",
    "psi = np.zeros((ngrid,ngrid))\n",
    "psi_t = np.zeros((ngrid,ngrid))\n",
    "psi_c = np.zeros((ngrid,ngrid))\n",
    "H = b0*np.ones((ngrid,ngrid))\n",
    "x = np.arange(ngrid)\n",
    "z= np.flipud(x)\n",
    "x,z = np.meshgrid(x,z)"
   ]
  },
  {
   "cell_type": "code",
   "execution_count": 22,
   "metadata": {
    "collapsed": true
   },
   "outputs": [],
   "source": [
    "def bathy1(b0, ngrid):\n",
    "    ## construct slope topography\n",
    "    topo = np.loadtxt(\"depth.txt\")\n",
    "    for i in np.arange(ngrid):\n",
    "        H[i,:] =topo[i]\n",
    "    m = np.zeros_like(H)\n",
    "    for j in np.arange(ngrid/2):\n",
    "        i = j+20\n",
    "        m[i:, j] = 1\n",
    "    ## mask the slope bathymetry\n",
    "    Hm = np.ma.masked_array(H, m)\n",
    "    #Hm[(ngrid-1)/2,0] = Hm[(ngrid-1)/2,1]\n",
    "    #Hm[0,(ngrid-1)/2] = Hm[0,(ngrid-1)/2+1]\n",
    "    Hm = np.flipud(Hm)\n",
    "\n",
    "    return Hm"
   ]
  },
  {
   "cell_type": "code",
   "execution_count": null,
   "metadata": {
    "collapsed": true
   },
   "outputs": [],
   "source": [
    "def bathy2(b0, ngrid):\n",
    "    ## construct step topography\n",
    "    topo = np.loadtxt(\"depth.txt\")\n",
    "    for i in np.arange(ngrid):\n",
    "        H[i,:] =topo[i]\n",
    "    m = np.zeros_like(H)\n",
    "    for j in np.arange(ngrid/2):\n",
    "        i = j+20\n",
    "        m[i:, j] = 1\n",
    "    ## mask the step bathymetry\n",
    "    Hm = np.ma.masked_array(H, m)\n",
    "    #Hm[(ngrid-1)/2,0] = Hm[(ngrid-1)/2,1]\n",
    "    #Hm[0,(ngrid-1)/2] = Hm[0,(ngrid-1)/2+1]\n",
    "    Hm = np.flipud(Hm)\n",
    "\n",
    "    return Hm"
   ]
  },
  {
   "cell_type": "code",
   "execution_count": 23,
   "metadata": {
    "collapsed": false
   },
   "outputs": [
    {
     "data": {
      "text/plain": [
       "40"
      ]
     },
     "execution_count": 23,
     "metadata": {},
     "output_type": "execute_result"
    }
   ],
   "source": [
    "Hm = bathy1(b0,ngrid)"
   ]
  },
  {
   "cell_type": "code",
   "execution_count": 6,
   "metadata": {
    "collapsed": false
   },
   "outputs": [],
   "source": [
    "## define slope of the topography\n",
    "#x_slope = np.arange(ngrid/2)\n",
    "#z_slope = np.flipud(np.arange(ngrid/2))\n",
    "## define x,y_slope corner of the topography\n",
    "#x_slope_corner = np.delete(x_slope, -1)\n",
    "#z_slope_corner = z_slope+1\n",
    "#z_slope_corner = np.delete(z_slope_corner, -1)\n",
    "##append the corner points and slope points\n",
    "#x_x = np.append(x_slope,x_slope_corner)\n",
    "#z_z = np.append(z_slope,z_slope_corner)"
   ]
  },
  {
   "cell_type": "code",
   "execution_count": 26,
   "metadata": {
    "collapsed": false
   },
   "outputs": [
    {
     "data": {
      "text/plain": [
       "<matplotlib.text.Text at 0x7f5db18b0710>"
      ]
     },
     "execution_count": 26,
     "metadata": {},
     "output_type": "execute_result"
    },
    {
     "name": "stderr",
     "output_type": "stream",
     "text": [
      "/home/jieliu/anaconda3/lib/python3.4/site-packages/matplotlib/collections.py:590: FutureWarning: elementwise comparison failed; returning scalar instead, but in the future will perform elementwise comparison\n",
      "  if self._edgecolors == str('face'):\n"
     ]
    },
    {
     "data": {
      "image/png": "[encoded data removed]",
      "text/plain": [
       "<matplotlib.figure.Figure at 0x7f5db193cf98>"
      ]
     },
     "metadata": {},
     "output_type": "display_data"
    }
   ],
   "source": [
    "fig, ax =plt.subplots(1,1,figsize = (12,6))\n",
    "plot=ax.pcolormesh(Hm,linewidth=0,rasterized=True, vmin = 0, vmax= 400)\n",
    "cbar= plt.colorbar(plot)\n",
    "cbar.set_label('Depth [m]')\n",
    "ax.grid('on')\n",
    "ax.set_xlim(0,40)\n",
    "ax.set_ylim(0,40)\n",
    "ax.set_title('bathy1')"
   ]
  },
  {
   "cell_type": "code",
   "execution_count": 10,
   "metadata": {
    "collapsed": true
   },
   "outputs": [],
   "source": [
    "def initial_conditions(psi):\n",
    "    \"\"\"Set the initial condition values when t=0.\n",
    "    \"\"\"\n",
    "    for j in np.arange(ngrid):\n",
    "        #psi = np.empty(n_grid)\n",
    "        psi[-1,j] = (omega/k)*np.sin(k*x*np.pi/180)*((b0+j)/b0)"
   ]
  },
  {
   "cell_type": "code",
   "execution_count": 11,
   "metadata": {
    "collapsed": false
   },
   "outputs": [],
   "source": [
    "def boundary_conditions(psi, ngrid):\n",
    "    \"\"\"Set the boundary condition values.\n",
    "    \"\"\"\n",
    "    ## three fixed boundary\n",
    "    psi[0,:] = 0\n",
    "    psi[-1,(ngrid-1)/2:] = 0\n",
    "    psi[(ngrid-1)/2-1:,0] = 0\n",
    "    ## one baroclinic solution by leap-frog to fix the boundary\n",
    "    psi[(ngrid-1)/2 - 2, 1] = psi_c[(ngrid-1)/2 - 2, 1] ## no need to shift?"
   ]
  },
  {
   "cell_type": "code",
   "execution_count": 12,
   "metadata": {
    "collapsed": false
   },
   "outputs": [],
   "source": [
    "def leap_frog(x_x,z_z,psi):\n",
    "    \"\"\"Calculate the next x (or i) values using the leap-frog scheme.\n",
    "    \"\"\"\n",
    "    ## This loop is for upper water with no steep topography\n",
    "    for i in np.arange(1,ngrid):\n",
    "        for pz in np.arange((ngrid-1)/2, ngrid,1):\n",
    "            psi_c[i+1, pz] = 2*psi_c[i, pz] + (dx**2/N2)*(omega**2(psi_c[i,pz+1]-2*psi_c[i,pz]\\\n",
    "            +psi_c[i,pz-1])/dz**2-(N2/g)*omega**2*(psi_c[i,pz+1]-psi_c[i,pz-1])/(2*dz))\n",
    "    ## With steep topography\n",
    "    \n",
    "    return psi   "
   ]
  },
  {
   "cell_type": "code",
   "execution_count": null,
   "metadata": {
    "collapsed": true
   },
   "outputs": [],
   "source": []
  }
 ],
 "metadata": {
  "kernelspec": {
   "display_name": "Python 3",
   "language": "python",
   "name": "python3"
  },
  "language_info": {
   "codemirror_mode": {
    "name": "ipython",
    "version": 3
   },
   "file_extension": ".py",
   "mimetype": "text/x-python",
   "name": "python",
   "nbconvert_exporter": "python",
   "pygments_lexer": "ipython3",
   "version": "3.4.3"
  }
 },
 "nbformat": 4,
 "nbformat_minor": 0
}
